{
 "cells": [
  {
   "cell_type": "code",
   "execution_count": 3,
   "metadata": {},
   "outputs": [],
   "source": [
    "from langchain.llms import OpenAI\n",
    "from dotenv import load_dotenv"
   ]
  },
  {
   "cell_type": "code",
   "execution_count": 12,
   "metadata": {},
   "outputs": [
    {
     "data": {
      "text/plain": [
       "True"
      ]
     },
     "execution_count": 12,
     "metadata": {},
     "output_type": "execute_result"
    }
   ],
   "source": [
    "load_dotenv()"
   ]
  },
  {
   "cell_type": "code",
   "execution_count": 13,
   "metadata": {},
   "outputs": [],
   "source": [
    "llm = OpenAI(temperature=0.3)"
   ]
  },
  {
   "cell_type": "code",
   "execution_count": 28,
   "metadata": {},
   "outputs": [
    {
     "name": "stdout",
     "output_type": "stream",
     "text": [
      "\n",
      "\n",
      "Popular dishes of Odisha include:\n",
      "\n",
      "1. Dalma: A traditional Odia dish made with lentils, vegetables and spices.\n",
      "\n",
      "2. Pitha: A type of sweet cake made from rice flour and jaggery.\n",
      "\n",
      "3. Rasagola: A sweet dish made from chhena (a type of cheese) and sugar syrup.\n",
      "\n",
      "4. Macha Ghanta: A spicy fish curry made with mustard paste, coconut and spices.\n",
      "\n",
      "5. Chhena Poda: A sweet dish made from chhena, sugar, cashew nuts and raisins.\n",
      "\n",
      "6. Ghugni: A spicy dish made with dried peas and spices.\n",
      "\n",
      "7. Chenna Jhilli: A sweet dish made from chhena, sugar and cardamom.\n",
      "\n",
      "8. Aloo Potala Rasa: A spicy potato curry.\n",
      "\n",
      "9. Pakhala: A dish made from cooked rice and water.\n",
      "\n",
      "10. Khiri: A sweet dish made from milk, sugar and cardamom.\n"
     ]
    }
   ],
   "source": [
    "text = \"What are the popular dishes of odisha.\"\n",
    "\n",
    "print(llm.predict(text))"
   ]
  },
  {
   "cell_type": "code",
   "execution_count": 32,
   "metadata": {},
   "outputs": [
    {
     "name": "stderr",
     "output_type": "stream",
     "text": [
      "d:\\dev\\langchain\\chat-bot-langchain-1\\venv\\Lib\\site-packages\\huggingface_hub\\utils\\_deprecation.py:127: FutureWarning: '__init__' (from 'huggingface_hub.inference_api') is deprecated and will be removed from version '0.19.0'. `InferenceApi` client is deprecated in favor of the more feature-complete `InferenceClient`. Check out this guide to learn how to convert your script to use it: https://huggingface.co/docs/huggingface_hub/guides/inference#legacy-inferenceapi-client.\n",
      "  warnings.warn(warning_message, FutureWarning)\n"
     ]
    }
   ],
   "source": [
    "from langchain import HuggingFaceHub\n",
    "llm_hf = HuggingFaceHub(repo_id=\"google/flan-t5-large\", model_kwargs={\"temperature\":0, \"max_length\":64})"
   ]
  },
  {
   "cell_type": "code",
   "execution_count": 33,
   "metadata": {},
   "outputs": [
    {
     "name": "stdout",
     "output_type": "stream",
     "text": [
      "dal, dal bhatiya, dal bhatiya, dal bhatiya, dal bhatiya, dal bhatiya, dal bhatiya\n"
     ]
    }
   ],
   "source": [
    "output = llm_hf.predict(text)\n",
    "print(output)"
   ]
  },
  {
   "cell_type": "markdown",
   "metadata": {},
   "source": [
    "## Prompt templates and LLM Chain"
   ]
  },
  {
   "cell_type": "code",
   "execution_count": 25,
   "metadata": {},
   "outputs": [],
   "source": [
    "from langchain.prompts import PromptTemplate\n",
    "from langchain.chains import LLMChain"
   ]
  },
  {
   "cell_type": "code",
   "execution_count": 51,
   "metadata": {},
   "outputs": [
    {
     "name": "stdout",
     "output_type": "stream",
     "text": [
      "\n",
      "\n",
      "Some popular dishes of Odisha in breakfast are:\n",
      "\n",
      "1. Pitha: Pitha is a type of cake made from rice flour, coconut, jaggery, and other ingredients. It is usually served with curd or milk.\n",
      "\n",
      "2. Dahi Vada: Dahi Vada is a popular breakfast dish made with lentil dumplings soaked in yogurt and topped with spices.\n",
      "\n",
      "3. Chhena Poda: Chhena Poda is a sweet dish made with fresh cottage cheese, sugar, and cardamom.\n",
      "\n",
      "4. Arisa Pitha: Arisa Pitha is a type of steamed cake made with rice flour, jaggery, and coconut.\n",
      "\n",
      "5. Ghuguni: Ghuguni is a popular breakfast dish made with boiled white peas cooked in a spicy gravy.\n",
      "\n",
      "6. Chuda Pitha: Chuda Pitha is a type of steamed cake made with flattened rice and jaggery.\n",
      "\n",
      "7. Dalma: Dalma is a dish made with lentils, vegetables, and spices. It is usually served with steamed rice.\n"
     ]
    }
   ],
   "source": [
    "prompt_template = PromptTemplate(input_variables=['state', 'type'], template=\"Tell me the popular dishes of {state} in {type}\")\n",
    "prompt_template.format(state='goa', type=\"lunch\")\n",
    "\n",
    "chain = LLMChain(llm=llm, prompt=prompt_template)\n",
    "prompt_output = chain({\"state\": 'Odisha', \"type\": 'breakfast'})\n",
    "print(prompt_output['text'])"
   ]
  },
  {
   "cell_type": "markdown",
   "metadata": {},
   "source": [
    "## Combine multiple chain using simple sequential chain"
   ]
  },
  {
   "cell_type": "code",
   "execution_count": 63,
   "metadata": {},
   "outputs": [],
   "source": [
    "dish_prompt = PromptTemplate(input_variables=['city'], template=\"Please tell me the best dish of {city}. Return only one answer.\")\n",
    "dish_chain = LLMChain(llm=llm, prompt=dish_prompt)\n"
   ]
  },
  {
   "cell_type": "code",
   "execution_count": 64,
   "metadata": {},
   "outputs": [],
   "source": [
    "receipi_prompt = PromptTemplate(input_variables=['dishName'], template=\"Can you give the recipe of {dishName}\")\n",
    "receipe_chain = LLMChain(llm=llm, prompt=receipi_prompt)"
   ]
  },
  {
   "cell_type": "code",
   "execution_count": 65,
   "metadata": {},
   "outputs": [],
   "source": [
    "from langchain.chains import SimpleSequentialChain"
   ]
  },
  {
   "cell_type": "code",
   "execution_count": 68,
   "metadata": {},
   "outputs": [
    {
     "name": "stdout",
     "output_type": "stream",
     "text": [
      "\n",
      "\n",
      "Ingredients:\n",
      "\n",
      "- 2 cups of parboiled rice\n",
      "- 1 cup of urad dal\n",
      "- 2 tablespoons of chana dal\n",
      "- 2 tablespoons of poha (flattened rice)\n",
      "- 1 teaspoon of fenugreek seeds\n",
      "- 1 teaspoon of cumin seeds\n",
      "- 2 tablespoons of coriander seeds\n",
      "- 2 tablespoons of sesame seeds\n",
      "- 2 tablespoons of chopped ginger\n",
      "- 2 tablespoons of chopped green chillies\n",
      "- 2 tablespoons of chopped curry leaves\n",
      "- 1 teaspoon of asafoetida\n",
      "- Salt to taste\n",
      "- Oil for cooking\n",
      "\n",
      "Instructions:\n",
      "\n",
      "1. Soak the parboiled rice, urad dal, chana dal, poha, and fenugreek seeds in water for 4-5 hours.\n",
      "\n",
      "2. Drain the water and grind the mixture into a smooth paste.\n",
      "\n",
      "3. Add the cumin seeds, coriander seeds, sesame seeds, ginger, green chillies, curry leaves, asafoetida, and salt to the paste and mix well.\n",
      "\n",
      "4. Heat a non-stick tawa and spread the batter evenly.\n",
      "\n",
      "5. Drizzle some oil around the edges and\n"
     ]
    }
   ],
   "source": [
    "final_chain = SimpleSequentialChain(chains=[dish_chain, receipe_chain])\n",
    "final_output = final_chain.run(\"Bengluru\")\n",
    "print(final_output)"
   ]
  },
  {
   "cell_type": "markdown",
   "metadata": {},
   "source": [
    "## Sequential chain"
   ]
  },
  {
   "cell_type": "code",
   "execution_count": 73,
   "metadata": {},
   "outputs": [],
   "source": [
    "dish_prompt = PromptTemplate(input_variables=['city'], template=\"Please tell me the best dish of {city}. Return only one answer.\")\n",
    "dish_chain = LLMChain(llm=llm, prompt=dish_prompt, output_key=\"dish_name\")"
   ]
  },
  {
   "cell_type": "code",
   "execution_count": 74,
   "metadata": {},
   "outputs": [],
   "source": [
    "receipi_prompt = PromptTemplate(input_variables=['dish_name'], template=\"Can you give the recipe of {dish_name}\")\n",
    "receipe_chain = LLMChain(llm=llm, prompt=receipi_prompt, output_key=\"receipe_detail\")"
   ]
  },
  {
   "cell_type": "code",
   "execution_count": 76,
   "metadata": {},
   "outputs": [],
   "source": [
    "from langchain.chains import SequentialChain\n",
    "chain = SequentialChain(chains=[dish_chain, receipe_chain], input_variables=['city'], output_variables=['dish_name', 'receipe_detail'])"
   ]
  },
  {
   "cell_type": "code",
   "execution_count": 79,
   "metadata": {},
   "outputs": [
    {
     "name": "stdout",
     "output_type": "stream",
     "text": [
      "Bengluru\n",
      "\n",
      "\n",
      "Masala Dosa\n",
      "\n",
      "\n",
      "Ingredients:\n",
      "\n",
      "- 2 cups of white rice\n",
      "- 1 cup of urad dal\n",
      "- 1 teaspoon of fenugreek seeds\n",
      "- 2 tablespoons of vegetable oil\n",
      "- 1 teaspoon of mustard seeds\n",
      "- 1 teaspoon of cumin seeds\n",
      "- 1 teaspoon of chana dal\n",
      "- 1 teaspoon of urad dal\n",
      "- 1 teaspoon of asafoetida\n",
      "- 2 green chillies, chopped\n",
      "- 1 onion, chopped\n",
      "- 2 potatoes, boiled and mashed\n",
      "- 1 teaspoon of turmeric powder\n",
      "- Salt to taste\n",
      "- 1/2 cup of fresh coriander leaves, chopped\n",
      "- 2 tablespoons of ghee\n",
      "\n",
      "Instructions:\n",
      "\n",
      "1. Soak the rice and urad dal in separate bowls for at least 4 hours.\n",
      "\n",
      "2. Drain the water from the soaked rice and urad dal and grind them together in a blender to make a smooth paste.\n",
      "\n",
      "3. Heat the oil in a pan and add the mustard seeds, cumin seeds, chana dal, urad dal and asafoetida.\n",
      "\n",
      "4. When the seeds start to splutter, add the chopped green chillies and onion.\n",
      "\n",
      "5. Saute\n"
     ]
    }
   ],
   "source": [
    "chain_data = chain({\"city\": \"Bengluru\"})\n",
    "print(chain_data[\"city\"])\n",
    "print(chain_data[\"dish_name\"])\n",
    "print(chain_data[\"receipe_detail\"])\n"
   ]
  },
  {
   "cell_type": "markdown",
   "metadata": {},
   "source": [
    "## Chat OpenAI\n"
   ]
  },
  {
   "cell_type": "code",
   "execution_count": 80,
   "metadata": {},
   "outputs": [],
   "source": [
    "from langchain.chat_models import ChatOpenAI\n",
    "from langchain.schema import HumanMessage, SystemMessage, AIMessage"
   ]
  },
  {
   "cell_type": "code",
   "execution_count": 81,
   "metadata": {},
   "outputs": [],
   "source": [
    "chat_llm = ChatOpenAI(temperature=0.6, model=\"gpt-3.5-turbo\")"
   ]
  },
  {
   "cell_type": "code",
   "execution_count": 82,
   "metadata": {},
   "outputs": [
    {
     "data": {
      "text/plain": [
       "AIMessage(content=\"Sure! Here's a popular recipe from Qatar called Chicken Machboos:\\n\\nIngredients:\\n- 1 kg chicken, cut into pieces\\n- 2 cups basmati rice\\n- 2 onions, finely chopped\\n- 4 cloves garlic, minced\\n- 2 tomatoes, diced\\n- 2 tablespoons tomato paste\\n- 2 tablespoons Arabic spice mix (baharat)\\n- 1 teaspoon turmeric powder\\n- 1 teaspoon cumin powder\\n- 1 teaspoon coriander powder\\n- 1 cinnamon stick\\n- 4 cardamom pods\\n- 4 cloves\\n- 2 bay leaves\\n- Salt, to taste\\n- 3 tablespoons vegetable oil\\n- 4 cups chicken broth\\n- Fresh coriander leaves, for garnish\\n- Lemon wedges, for serving\\n\\nInstructions:\\n1. Rinse the basmati rice under cold water until the water runs clear. Soak the rice in water for about 30 minutes, then drain and set aside.\\n2. In a large pot, heat the vegetable oil over medium heat. Add the chopped onions and sauté until golden brown.\\n3. Add the minced garlic and sauté for another minute until fragrant.\\n4. Add the chicken pieces to the pot and cook until browned on all sides.\\n5. Stir in the diced tomatoes, tomato paste, Arabic spice mix, turmeric powder, cumin powder, coriander powder, cinnamon stick, cardamom pods, cloves, bay leaves, and salt. Cook for a few minutes to allow the spices to release their flavors.\\n6. Add the soaked and drained basmati rice to the pot and stir well to coat the rice with the spices.\\n7. Pour in the chicken broth and bring to a boil. Reduce the heat to low, cover the pot, and simmer for about 15-20 minutes or until the rice is cooked and the liquid is absorbed.\\n8. Remove the pot from heat and let it sit covered for an additional 10 minutes to allow the flavors to meld.\\n9. Fluff the rice with a fork and transfer to a serving platter. Garnish with fresh coriander leaves.\\n10. Serve the Chicken Machboos hot with lemon wedges on the side.\\n\\nEnjoy your delicious Chicken Machboos, a popular dish from Qatar!\")"
      ]
     },
     "execution_count": 82,
     "metadata": {},
     "output_type": "execute_result"
    }
   ],
   "source": [
    "chat_llm([\n",
    "    SystemMessage(content=\"You are chef assistant\"),\n",
    "    HumanMessage(content=\"Please provde a popular recipe of Quatar?\")\n",
    "])"
   ]
  },
  {
   "cell_type": "markdown",
   "metadata": {},
   "source": [
    "## Prompt template, LLM, Output parser"
   ]
  },
  {
   "cell_type": "code",
   "execution_count": 83,
   "metadata": {},
   "outputs": [],
   "source": [
    "from langchain.chat_models import ChatOpenAI\n",
    "from langchain.prompts.chat import ChatPromptTemplate\n",
    "from langchain.schema import BaseOutputParser"
   ]
  },
  {
   "cell_type": "code",
   "execution_count": 84,
   "metadata": {},
   "outputs": [],
   "source": [
    "class CommaSeparatedOutput(BaseOutputParser):\n",
    "    def parse(self, text:str):\n",
    "        return text.strip().split(\",\")"
   ]
  },
  {
   "cell_type": "code",
   "execution_count": 85,
   "metadata": {},
   "outputs": [],
   "source": [
    "template = \"You are chef assistant, you should generate 5 indian popular dishes with comma separated.\"\n",
    "human_template = \"{text}\""
   ]
  },
  {
   "cell_type": "code",
   "execution_count": 87,
   "metadata": {},
   "outputs": [],
   "source": [
    "chat_prompt = ChatPromptTemplate.from_messages([\n",
    "    ('system', template),\n",
    "    ('human', human_template)\n",
    "])\n",
    "chain = chat_prompt|chat_llm|CommaSeparatedOutput()"
   ]
  },
  {
   "cell_type": "code",
   "execution_count": 88,
   "metadata": {},
   "outputs": [
    {
     "data": {
      "text/plain": [
       "['1. Chhena Poda\\n2. Puri Bhaji\\n3. Machha Besara\\n4. Dalma\\n5. Chhena Jhili']"
      ]
     },
     "execution_count": 88,
     "metadata": {},
     "output_type": "execute_result"
    }
   ],
   "source": [
    "chain.invoke({\"text\":\"odisha\"})"
   ]
  },
  {
   "cell_type": "code",
   "execution_count": null,
   "metadata": {},
   "outputs": [],
   "source": []
  }
 ],
 "metadata": {
  "kernelspec": {
   "display_name": "venv",
   "language": "python",
   "name": "python3"
  },
  "language_info": {
   "codemirror_mode": {
    "name": "ipython",
    "version": 3
   },
   "file_extension": ".py",
   "mimetype": "text/x-python",
   "name": "python",
   "nbconvert_exporter": "python",
   "pygments_lexer": "ipython3",
   "version": "3.11.4"
  }
 },
 "nbformat": 4,
 "nbformat_minor": 2
}
